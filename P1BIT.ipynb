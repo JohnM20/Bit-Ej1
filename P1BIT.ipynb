{
  "nbformat": 4,
  "nbformat_minor": 0,
  "metadata": {
    "colab": {
      "name": "Untitled1.ipynb",
      "provenance": [],
      "collapsed_sections": [],
      "authorship_tag": "ABX9TyNm8BbHqJr/BPLjO6m74YFX",
      "include_colab_link": true
    },
    "kernelspec": {
      "name": "python3",
      "display_name": "Python 3"
    }
  },
  "cells": [
    {
      "cell_type": "markdown",
      "metadata": {
        "id": "view-in-github",
        "colab_type": "text"
      },
      "source": [
        "<a href=\"https://colab.research.google.com/github/JohnM20/Bit-Ej1/blob/master/P1BIT.ipynb\" target=\"_parent\"><img src=\"https://colab.research.google.com/assets/colab-badge.svg\" alt=\"Open In Colab\"/></a>"
      ]
    },
    {
      "cell_type": "markdown",
      "metadata": {
        "id": "60M6tNdMlgQz",
        "colab_type": "text"
      },
      "source": [
        "# Prueba técnica Data Science\n",
        "# Autor : John Gabriel Muñoz Cruz"
      ]
    },
    {
      "cell_type": "code",
      "metadata": {
        "id": "umaBPQ2zTpLn",
        "colab_type": "code",
        "colab": {}
      },
      "source": [
        "\n",
        "\n",
        "# Importación de librerias\n",
        "\n",
        "from sklearn.model_selection import train_test_split\n",
        "from sklearn import  linear_model\n",
        "from sklearn.linear_model import LogisticRegression\n",
        "from sklearn.metrics import mean_squared_error\n",
        "from sklearn.metrics import precision_score\n",
        "from sklearn.cluster import KMeans\n",
        "import matplotlib.pyplot as plt\n",
        "import pandas as pd\n"
      ],
      "execution_count": 0,
      "outputs": []
    },
    {
      "cell_type": "markdown",
      "metadata": {
        "id": "_97ppDWj295Y",
        "colab_type": "text"
      },
      "source": [
        "Preparación de los datos\n"
      ]
    },
    {
      "cell_type": "code",
      "metadata": {
        "id": "SWc5GdWxuNBD",
        "colab_type": "code",
        "colab": {
          "base_uri": "https://localhost:8080/",
          "height": 329
        },
        "outputId": "39cda13f-3db1-449f-85ec-69e5fb06a619"
      },
      "source": [
        "# Lectura desde el repositorio empleando View Raw\n",
        "estudiantes = pd.read_csv(\"https://raw.githubusercontent.com/JohnM20/Bit-Ej1/master/BitStudentDataSet.csv\",sep=',')\n",
        "# Verificación de los datos\n",
        "print (estudiantes.shape)\n",
        "print (estudiantes)"
      ],
      "execution_count": 18,
      "outputs": [
        {
          "output_type": "stream",
          "text": [
            "(13, 8)\n",
            "    NOMBRES APELLIDOS  DOCUMENTO  ...  NOTA1  NOTA2  NOTA3\n",
            "0      pepe     perez     123698  ...    2.5    3.6    1.2\n",
            "1   shakira    lozano     563254  ...    4.4    4.6    5.0\n",
            "2    nelson   ramirez    1002810  ...    5.0    5.0    5.0\n",
            "3     fabio    arcila    1442366  ...    1.0    2.0    3.5\n",
            "4     carla   arevalo    1881922  ...    4.6    5.0    4.2\n",
            "5     karol   jimenez    2321478  ...    2.0    3.5    1.1\n",
            "6      fito     lopez    2761034  ...    4.0    5.0    4.6\n",
            "7     laura   sanchez    3200590  ...    2.2    1.3    1.2\n",
            "8    jimena     corzo    3640146  ...    2.1    1.6    2.2\n",
            "9   valeria    zuares    4079702  ...    4.1    5.0    4.2\n",
            "10    luisa     suaza    4519258  ...    3.5    4.2    5.0\n",
            "11  claudia     parlo    4958814  ...    2.2    1.0    2.3\n",
            "12      cat     belle    5398370  ...    3.9    4.3    4.9\n",
            "\n",
            "[13 rows x 8 columns]\n"
          ],
          "name": "stdout"
        }
      ]
    },
    {
      "cell_type": "code",
      "metadata": {
        "id": "5cwWVr_wvqR8",
        "colab_type": "code",
        "colab": {
          "base_uri": "https://localhost:8080/",
          "height": 807
        },
        "outputId": "2ea373a6-6b2f-47f5-a221-e7c2fcb465f8"
      },
      "source": [
        "# Adecuación de los datos\n",
        "\n",
        "# La red selecciona las 3 notas de los estudiantes existentes siendo la información de entrada.\n",
        "XN = estudiantes.iloc[0:12, 5:8]\n",
        "# Los datos objetivos es la columna si aprobo o no el curso.\n",
        "# El sistema creado debe predecir con unas notas, si el alumno posiblemente termina el curso.\n",
        "Y = estudiantes.iloc[0:12, 4]\n",
        "print(XN)\n",
        "print (\"\\nObjetivo: \\n\")\n",
        "print(Y)\n",
        "print(Y.shape)\n",
        "\n",
        "# Los datos se deben normalizar para el estudio de Machine Learning\n",
        "\n",
        "X = XN/(XN.values.max())\n",
        "print (X) \n"
      ],
      "execution_count": 85,
      "outputs": [
        {
          "output_type": "stream",
          "text": [
            "    NOTA1  NOTA2  NOTA3\n",
            "0     2.5    3.6    1.2\n",
            "1     4.4    4.6    5.0\n",
            "2     5.0    5.0    5.0\n",
            "3     1.0    2.0    3.5\n",
            "4     4.6    5.0    4.2\n",
            "5     2.0    3.5    1.1\n",
            "6     4.0    5.0    4.6\n",
            "7     2.2    1.3    1.2\n",
            "8     2.1    1.6    2.2\n",
            "9     4.1    5.0    4.2\n",
            "10    3.5    4.2    5.0\n",
            "11    2.2    1.0    2.3\n",
            "\n",
            "Objetivo: \n",
            "\n",
            "0     0\n",
            "1     1\n",
            "2     1\n",
            "3     0\n",
            "4     1\n",
            "5     0\n",
            "6     1\n",
            "7     0\n",
            "8     0\n",
            "9     1\n",
            "10    1\n",
            "11    0\n",
            "Name: TERMINO_CURSO, dtype: int64\n",
            "(12,)\n",
            "    NOTA1  NOTA2  NOTA3\n",
            "0    0.50   0.72   0.24\n",
            "1    0.88   0.92   1.00\n",
            "2    1.00   1.00   1.00\n",
            "3    0.20   0.40   0.70\n",
            "4    0.92   1.00   0.84\n",
            "5    0.40   0.70   0.22\n",
            "6    0.80   1.00   0.92\n",
            "7    0.44   0.26   0.24\n",
            "8    0.42   0.32   0.44\n",
            "9    0.82   1.00   0.84\n",
            "10   0.70   0.84   1.00\n",
            "11   0.44   0.20   0.46\n"
          ],
          "name": "stdout"
        }
      ]
    },
    {
      "cell_type": "markdown",
      "metadata": {
        "id": "HGQCV7Ng3Dfd",
        "colab_type": "text"
      },
      "source": [
        "Regresión Lineal"
      ]
    },
    {
      "cell_type": "code",
      "metadata": {
        "id": "y6_iZ_3axQl5",
        "colab_type": "code",
        "colab": {
          "base_uri": "https://localhost:8080/",
          "height": 146
        },
        "outputId": "68588736-5132-413f-dbc7-86982d21fe8d"
      },
      "source": [
        "# Separación de la información en los datos para entrenar y los datos para verificar\n",
        "# solamente se emplea el 20% para verificar por el tamaño de los datos\n",
        "X_train,X_test,Y_train,Y_test= train_test_split(X,Y,test_size=0.2)\n",
        "\n",
        "# Se selecciona el modelo de regresión lineal\n",
        "rl = linear_model.LinearRegression()\n",
        "\n",
        "# Se realiza el entrenamiento del sistema\n",
        "rl.fit(X_train, Y_train)\n",
        "\n",
        "# Predice con el 20% de los datos\n",
        "Y_pred = rl.predict(X_test)\n",
        "\n",
        "# Cálculo de la predicción del modelo\n",
        "print(Y_pred)\n",
        "# Datos originales\n",
        "print(Y_test)\n",
        "\n",
        "# Error cuadratico Medio\n",
        "print(\"Error cuadratico medio:\")\n",
        "mean_squared_error(Y_test, Y_pred)\n",
        "\n"
      ],
      "execution_count": 88,
      "outputs": [
        {
          "output_type": "stream",
          "text": [
            "[0.90945801 0.83372945 0.07913204]\n",
            "6     1\n",
            "10    1\n",
            "3     0\n",
            "Name: TERMINO_CURSO, dtype: int64\n",
            "Error cuadratico medio:\n"
          ],
          "name": "stdout"
        },
        {
          "output_type": "execute_result",
          "data": {
            "text/plain": [
              "0.014035208863979987"
            ]
          },
          "metadata": {
            "tags": []
          },
          "execution_count": 88
        }
      ]
    },
    {
      "cell_type": "markdown",
      "metadata": {
        "id": "I_AvJXH33uUj",
        "colab_type": "text"
      },
      "source": [
        "Regresión logistica"
      ]
    },
    {
      "cell_type": "code",
      "metadata": {
        "id": "28fGKD5D31xz",
        "colab_type": "code",
        "colab": {
          "base_uri": "https://localhost:8080/",
          "height": 146
        },
        "outputId": "661907ca-5ac1-411d-905e-06ed582b7090"
      },
      "source": [
        "# Separación de la información en los datos para entrenar y los datos para verificar\n",
        "# solamente se emplea el 20% para verificar por el tamaño de los datos\n",
        "X_train,X_test,Y_train,Y_test= train_test_split(X,Y,test_size=0.2)\n",
        "\n",
        "# Se selecciona el modelo de regresión logistica\n",
        "rlog = LogisticRegression()\n",
        "\n",
        "# Se realiza el entrenamiento del sistema\n",
        "rlog.fit(X_train, Y_train)\n",
        "\n",
        "# Predice con el 20% de los datos\n",
        "Y_pred = rlog.predict(X_test)\n",
        "\n",
        "# Cálculo de la predicción del modelo\n",
        "print(Y_pred)\n",
        "# Datos originales\n",
        "print(Y_test)\n",
        "\n",
        "# Error cuadratico Medio\n",
        "print(\"Error cuadratico medio:\")\n",
        "\n",
        "mean_squared_error(Y_test, Y_pred)"
      ],
      "execution_count": 102,
      "outputs": [
        {
          "output_type": "stream",
          "text": [
            "[0 1 1]\n",
            "5    0\n",
            "4    1\n",
            "9    1\n",
            "Name: TERMINO_CURSO, dtype: int64\n",
            "Error cuadratico medio:\n"
          ],
          "name": "stdout"
        },
        {
          "output_type": "execute_result",
          "data": {
            "text/plain": [
              "0.0"
            ]
          },
          "metadata": {
            "tags": []
          },
          "execution_count": 102
        }
      ]
    },
    {
      "cell_type": "markdown",
      "metadata": {
        "id": "aAHpTag1_IHC",
        "colab_type": "text"
      },
      "source": [
        "Vecinos más cercanos"
      ]
    },
    {
      "cell_type": "code",
      "metadata": {
        "id": "mmT07UXE_MIX",
        "colab_type": "code",
        "colab": {
          "base_uri": "https://localhost:8080/",
          "height": 201
        },
        "outputId": "f6c0ca6e-d225-453d-ebcb-2a9de7d7986f"
      },
      "source": [
        "# Separación de la información en los datos para entrenar y los datos para verificar\n",
        "# solamente se emplea el 50% para verificar por el tamaño de los datos\n",
        "X_train,X_test,Y_train,Y_test= train_test_split(X,Y,test_size=0.5)\n",
        "\n",
        "# Se selecciona el modelo de agrupación por vecinos cercanos.\n",
        "# Son 3 notas asi que se espera que el cluster corresponda a si el estudiante permanece o no\n",
        "n = 3\n",
        "k_means = KMeans(n_clusters=n)\n",
        "k_means.fit(X_train)\n",
        "\n",
        "# Predice con el 20% de los datos\n",
        "Y_pred= k_means.predict(X_test)\n",
        "\n",
        "# Cálculo de la predicción del modelo\n",
        "print(Y_pred)\n",
        "# Datos originales\n",
        "print(Y_test)\n",
        "\n",
        "# Error cuadratico Medio\n",
        "print(\"Error cuadratico medio:\")\n",
        "\n",
        "mean_squared_error(Y_test, Y_pred)"
      ],
      "execution_count": 108,
      "outputs": [
        {
          "output_type": "stream",
          "text": [
            "[0 0 0 0 2 0]\n",
            "10    1\n",
            "9     1\n",
            "1     1\n",
            "4     1\n",
            "5     0\n",
            "6     1\n",
            "Name: TERMINO_CURSO, dtype: int64\n",
            "Error cuadratico medio:\n"
          ],
          "name": "stdout"
        },
        {
          "output_type": "execute_result",
          "data": {
            "text/plain": [
              "1.5"
            ]
          },
          "metadata": {
            "tags": []
          },
          "execution_count": 108
        }
      ]
    }
  ]
}