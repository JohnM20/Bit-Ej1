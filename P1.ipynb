{
  "nbformat": 4,
  "nbformat_minor": 0,
  "metadata": {
    "colab": {
      "name": "Untitled1.ipynb",
      "provenance": [],
      "collapsed_sections": [],
      "authorship_tag": "ABX9TyNABM+tS0wMUn6UsC9qup4r",
      "include_colab_link": true
    },
    "kernelspec": {
      "name": "python3",
      "display_name": "Python 3"
    }
  },
  "cells": [
    {
      "cell_type": "markdown",
      "metadata": {
        "id": "view-in-github",
        "colab_type": "text"
      },
      "source": [
        "<a href=\"https://colab.research.google.com/github/JohnM20/Bit-Ej1/blob/master/P1.ipynb\" target=\"_parent\"><img src=\"https://colab.research.google.com/assets/colab-badge.svg\" alt=\"Open In Colab\"/></a>"
      ]
    },
    {
      "cell_type": "markdown",
      "metadata": {
        "id": "60M6tNdMlgQz",
        "colab_type": "text"
      },
      "source": [
        "# Prueba técnica Data Science\n",
        "# Autor : John Gabriel Muñoz Cruz"
      ]
    },
    {
      "cell_type": "code",
      "metadata": {
        "id": "umaBPQ2zTpLn",
        "colab_type": "code",
        "colab": {}
      },
      "source": [
        "\n",
        "\n",
        "# Importación de librerias\n",
        "\n",
        "from sklearn.model_selection import train_test_split\n",
        "from sklearn import  linear_model\n",
        "import matplotlib.pyplot as plt\n",
        "import pandas as pd\n"
      ],
      "execution_count": 0,
      "outputs": []
    },
    {
      "cell_type": "markdown",
      "metadata": {
        "id": "RJ1HybHglpKb",
        "colab_type": "text"
      },
      "source": [
        "Regresión Lineal"
      ]
    },
    {
      "cell_type": "code",
      "metadata": {
        "id": "SWc5GdWxuNBD",
        "colab_type": "code",
        "colab": {
          "base_uri": "https://localhost:8080/",
          "height": 329
        },
        "outputId": "bf9f9eca-fb54-499f-e6fa-df26cd6eba14"
      },
      "source": [
        "# Lectura desde el repositorio empleando View Raw\n",
        "estudiantes = pd.read_csv(\"https://raw.githubusercontent.com/JohnM20/Bit-Ej1/master/BitStudentDataSet.csv\",sep=',')\n",
        "# Verificación de los datos\n",
        "print (estudiantes.shape);\n",
        "print (estudiantes);"
      ],
      "execution_count": 11,
      "outputs": [
        {
          "output_type": "stream",
          "text": [
            "(13, 8)\n",
            "    NOMBRES APELLIDOS  DOCUMENTO  ...  NOTA1  NOTA2  NOTA3\n",
            "0      pepe     perez     123698  ...    2.5    3.6    1.2\n",
            "1   shakira    lozano     563254  ...    4.4    4.6    5.0\n",
            "2    nelson   ramirez    1002810  ...    5.0    5.0    5.0\n",
            "3     fabio    arcila    1442366  ...    1.0    2.0    3.5\n",
            "4     carla   arevalo    1881922  ...    4.6    5.0    4.2\n",
            "5     karol   jimenez    2321478  ...    2.0    3.5    1.1\n",
            "6      fito     lopez    2761034  ...    4.0    5.0    4.6\n",
            "7     laura   sanchez    3200590  ...    2.2    1.3    1.2\n",
            "8    jimena     corzo    3640146  ...    2.1    1.6    2.2\n",
            "9   valeria    zuares    4079702  ...    4.1    5.0    4.2\n",
            "10    luisa     suaza    4519258  ...    3.5    4.2    5.0\n",
            "11  claudia     parlo    4958814  ...    2.2    1.0    2.3\n",
            "12      cat     belle    5398370  ...    3.9    4.3    4.9\n",
            "\n",
            "[13 rows x 8 columns]\n"
          ],
          "name": "stdout"
        }
      ]
    },
    {
      "cell_type": "code",
      "metadata": {
        "id": "5cwWVr_wvqR8",
        "colab_type": "code",
        "colab": {
          "base_uri": "https://localhost:8080/",
          "height": 550
        },
        "outputId": "95fec60d-6324-4584-eb47-25efcdc4cbe5"
      },
      "source": [
        "# Adecuación de los datos\n",
        "\n",
        "# La red selecciona las 3 notas de los estudiantes existentes siendo la información de entrada.\n",
        "X = estudiantes.iloc[0:12, 5:8];\n",
        "# Los datos objetivos es la columna si aprobo o no el curso.\n",
        "# El sistema creado debe predecir con unas notas, si el alumno posiblemente termina el curso.\n",
        "Y = estudiantes.iloc[0:12, 4];\n",
        "print(X);\n",
        "print (\"\\nObjetivo: \\n\")\n",
        "print(Y);"
      ],
      "execution_count": 15,
      "outputs": [
        {
          "output_type": "stream",
          "text": [
            "    NOTA1  NOTA2  NOTA3\n",
            "0     2.5    3.6    1.2\n",
            "1     4.4    4.6    5.0\n",
            "2     5.0    5.0    5.0\n",
            "3     1.0    2.0    3.5\n",
            "4     4.6    5.0    4.2\n",
            "5     2.0    3.5    1.1\n",
            "6     4.0    5.0    4.6\n",
            "7     2.2    1.3    1.2\n",
            "8     2.1    1.6    2.2\n",
            "9     4.1    5.0    4.2\n",
            "10    3.5    4.2    5.0\n",
            "11    2.2    1.0    2.3\n",
            "\n",
            "Objetivo: \n",
            "\n",
            "0     0\n",
            "1     1\n",
            "2     1\n",
            "3     0\n",
            "4     1\n",
            "5     0\n",
            "6     1\n",
            "7     0\n",
            "8     0\n",
            "9     1\n",
            "10    1\n",
            "11    0\n",
            "Name: TERMINO_CURSO, dtype: int64\n"
          ],
          "name": "stdout"
        }
      ]
    }
  ]
}